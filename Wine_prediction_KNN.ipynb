{
 "cells": [
  {
   "cell_type": "code",
   "execution_count": 3,
   "metadata": {},
   "outputs": [],
   "source": [
    "#install.packages('ggplot2')\n",
    "#install.packages('class')\n",
    "#install.packages('gmodels')\n",
    "library(ggplot2)\n",
    "library(class)\n",
    "library(gmodels)"
   ]
  },
  {
   "cell_type": "markdown",
   "metadata": {},
   "source": [
    "Loading Data.."
   ]
  },
  {
   "cell_type": "code",
   "execution_count": null,
   "metadata": {},
   "outputs": [],
   "source": [
    "wine <- read.csv('data/winequality-white.csv', sep=';')"
   ]
  },
  {
   "cell_type": "markdown",
   "metadata": {},
   "source": [
    "1. Checking for data characteristics and missing values (if any)\n",
    "2. Checking for correlation between variables\n"
   ]
  },
  {
   "cell_type": "code",
   "execution_count": null,
   "metadata": {},
   "outputs": [],
   "source": [
    "summary(wine)\n",
    "str(wine)\n",
    "sum(is.na(wine))\n",
    "\n",
    "#correlation\n",
    "c<-cor(wine[,-12])\n",
    "c\n",
    "corrplot::corrplot(c, method = 'ellipse', type ='upper')"
   ]
  },
  {
   "cell_type": "markdown",
   "metadata": {},
   "source": [
    "All variables are numeric with no missing vallues in data set.\n",
    "\n",
    "This is the \n",
    "Density ~ Alcohol : Strong Negative Correlation = -0.78\n",
    "Density ~ Residual Sugars : Strong Positive Correlation = 0.84\n",
    "Total.Sulfur.dioxide~ Free.sulfur dioxide: Moderate positive correlation - 0.61\n",
    "\n",
    "3. \n",
    "Frequency distribution for Wine Quality\n",
    "This is mostly a normal distribution.\n"
   ]
  }
 ],
 "metadata": {
  "kernelspec": {
   "display_name": "R",
   "language": "R",
   "name": "ir"
  },
  "language_info": {
   "codemirror_mode": "r",
   "file_extension": ".r",
   "mimetype": "text/x-r-source",
   "name": "R",
   "pygments_lexer": "r",
   "version": "3.5.2"
  }
 },
 "nbformat": 4,
 "nbformat_minor": 2
}
