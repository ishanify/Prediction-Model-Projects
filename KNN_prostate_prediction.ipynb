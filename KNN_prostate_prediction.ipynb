{
 "cells": [
  {
   "cell_type": "markdown",
   "metadata": {},
   "source": [
    "# Using KNN classification algorithm, predicting Malignant OR Benin prostate cancer."
   ]
  },
  {
   "cell_type": "markdown",
   "metadata": {},
   "source": [
    "The data set contains patients who have been diagnosed with either Malignant (M) or Benign (B) cancer.\n",
    "\n",
    "Load the data and check its characteristics.."
   ]
  },
  {
   "cell_type": "code",
   "execution_count": 3,
   "metadata": {},
   "outputs": [
    {
     "name": "stdout",
     "output_type": "stream",
     "text": [
      "'data.frame':\t100 obs. of  10 variables:\n",
      " $ id               : int  1 2 3 4 5 6 7 8 9 10 ...\n",
      " $ diagnosis_result : chr  \"M\" \"B\" \"M\" \"M\" ...\n",
      " $ radius           : int  23 9 21 14 9 25 16 15 19 25 ...\n",
      " $ texture          : int  12 13 27 16 19 25 26 18 24 11 ...\n",
      " $ perimeter        : int  151 133 130 78 135 83 120 90 88 84 ...\n",
      " $ area             : int  954 1326 1203 386 1297 477 1040 578 520 476 ...\n",
      " $ smoothness       : num  0.143 0.143 0.125 0.07 0.141 0.128 0.095 0.119 0.127 0.119 ...\n",
      " $ compactness      : num  0.278 0.079 0.16 0.284 0.133 0.17 0.109 0.165 0.193 0.24 ...\n",
      " $ symmetry         : num  0.242 0.181 0.207 0.26 0.181 0.209 0.179 0.22 0.235 0.203 ...\n",
      " $ fractal_dimension: num  0.079 0.057 0.06 0.097 0.059 0.076 0.057 0.075 0.074 0.082 ...\n"
     ]
    }
   ],
   "source": [
    "prc <- read.csv(\"Prostate_Cancer.csv\",stringsAsFactors = FALSE)\n",
    "str(prc)"
   ]
  },
  {
   "cell_type": "code",
   "execution_count": null,
   "metadata": {},
   "outputs": [],
   "source": []
  }
 ],
 "metadata": {
  "kernelspec": {
   "display_name": "R",
   "language": "R",
   "name": "ir"
  },
  "language_info": {
   "codemirror_mode": "r",
   "file_extension": ".r",
   "mimetype": "text/x-r-source",
   "name": "R",
   "pygments_lexer": "r",
   "version": "3.5.2"
  }
 },
 "nbformat": 4,
 "nbformat_minor": 2
}
