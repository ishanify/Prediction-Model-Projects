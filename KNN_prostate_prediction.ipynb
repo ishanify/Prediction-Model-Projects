{
 "cells": [
  {
   "cell_type": "markdown",
   "metadata": {},
   "source": [
    "# Using KNN classification algorithm, predicting Malignant OR Benign prostate cancer."
   ]
  },
  {
   "cell_type": "markdown",
   "metadata": {},
   "source": [
    "The data set contains patients who have been diagnosed with either Malignant (M) or Benign (B) cancer."
   ]
  },
  {
   "cell_type": "code",
   "execution_count": 1,
   "metadata": {},
   "outputs": [
    {
     "name": "stdout",
     "output_type": "stream",
     "text": [
      "\n",
      "The downloaded binary packages are in\n",
      "\t/var/folders/xs/2xmt88qs64s3nhph7yjcxgth0000gn/T//RtmpluJsyc/downloaded_packages\n",
      "\n",
      "The downloaded binary packages are in\n",
      "\t/var/folders/xs/2xmt88qs64s3nhph7yjcxgth0000gn/T//RtmpluJsyc/downloaded_packages\n"
     ]
    }
   ],
   "source": [
    "# Loading the packages we need.\n",
    "install.packages(\"class\")\n",
    "install.packages(\"gmodels\")\n",
    "library(class)\n",
    "library(gmodels)"
   ]
  },
  {
   "cell_type": "code",
   "execution_count": 2,
   "metadata": {},
   "outputs": [
    {
     "data": {
      "text/plain": [
       "       id         diagnosis_result       radius         texture     \n",
       " Min.   :  1.00   Length:100         Min.   : 9.00   Min.   :11.00  \n",
       " 1st Qu.: 25.75   Class :character   1st Qu.:12.00   1st Qu.:14.00  \n",
       " Median : 50.50   Mode  :character   Median :17.00   Median :17.50  \n",
       " Mean   : 50.50                      Mean   :16.85   Mean   :18.23  \n",
       " 3rd Qu.: 75.25                      3rd Qu.:21.00   3rd Qu.:22.25  \n",
       " Max.   :100.00                      Max.   :25.00   Max.   :27.00  \n",
       "   perimeter           area          smoothness      compactness    \n",
       " Min.   : 52.00   Min.   : 202.0   Min.   :0.0700   Min.   :0.0380  \n",
       " 1st Qu.: 82.50   1st Qu.: 476.8   1st Qu.:0.0935   1st Qu.:0.0805  \n",
       " Median : 94.00   Median : 644.0   Median :0.1020   Median :0.1185  \n",
       " Mean   : 96.78   Mean   : 702.9   Mean   :0.1027   Mean   :0.1267  \n",
       " 3rd Qu.:114.25   3rd Qu.: 917.0   3rd Qu.:0.1120   3rd Qu.:0.1570  \n",
       " Max.   :172.00   Max.   :1878.0   Max.   :0.1430   Max.   :0.3450  \n",
       "    symmetry      fractal_dimension\n",
       " Min.   :0.1350   Min.   :0.05300  \n",
       " 1st Qu.:0.1720   1st Qu.:0.05900  \n",
       " Median :0.1900   Median :0.06300  \n",
       " Mean   :0.1932   Mean   :0.06469  \n",
       " 3rd Qu.:0.2090   3rd Qu.:0.06900  \n",
       " Max.   :0.3040   Max.   :0.09700  "
      ]
     },
     "metadata": {},
     "output_type": "display_data"
    }
   ],
   "source": [
    "# Load the data and check its characteristics..\n",
    "\n",
    "prc <- read.csv(\"Prostate_Cancer.csv\",stringsAsFactors = FALSE)\n",
    "summary(prc)"
   ]
  },
  {
   "cell_type": "markdown",
   "metadata": {},
   "source": [
    "Remove 'id' from data set because its not needed to build this model."
   ]
  },
  {
   "cell_type": "code",
   "execution_count": 3,
   "metadata": {},
   "outputs": [],
   "source": [
    "prc <- prc[-1]"
   ]
  },
  {
   "cell_type": "code",
   "execution_count": 4,
   "metadata": {},
   "outputs": [
    {
     "data": {
      "text/html": [
       "0"
      ],
      "text/latex": [
       "0"
      ],
      "text/markdown": [
       "0"
      ],
      "text/plain": [
       "[1] 0"
      ]
     },
     "metadata": {},
     "output_type": "display_data"
    }
   ],
   "source": [
    "sum(is.na(prc))"
   ]
  },
  {
   "cell_type": "markdown",
   "metadata": {},
   "source": [
    "Checked for missing values\n",
    "Good news! No NAs.\n",
    "\n",
    "Since our dependent variable \"diagnosis_result\" is M or B, I want to make it into a descriptive form, adding another column \"diagnosis\". \n",
    "\n",
    "Then, normalize data and divide it into Training and Testing Sets randomly, I used 65:35 ratio."
   ]
  },
  {
   "cell_type": "code",
   "execution_count": 5,
   "metadata": {},
   "outputs": [],
   "source": [
    "prc$diagnosis <- factor(prc$diagnosis_result, levels = c(\"B\", \"M\"), labels = c(\"Benign\", \"Malignant\"))\n",
    "\n",
    "#Normalize the numeric variables in data\n",
    "normalize <- function(x) {\n",
    "               return ((x - min(x)) / (max(x) - min(x))) }\n",
    "\n",
    "prc_normalized <- as.data.frame(lapply(prc[2:9], normalize))\n",
    "prc_normalized <- cbind(prc$diagnosis, prc_normalized)\n",
    "\n",
    "#Divide data in train & test set\n",
    "train_index <- sample(1:nrow(prc_normalized), 0.65 * nrow(prc_normalized))\n",
    "prc_train <- prc_normalized [train_index,]\n",
    "prc_test <- prc_normalized [-train_index,]\n",
    "\n",
    "#Extract prediction class labels of train and test set.\n",
    "train_label <- prc_train[,1]\n",
    "test_label <- prc_test[,1]\n"
   ]
  },
  {
   "cell_type": "markdown",
   "metadata": {},
   "source": [
    "Apply KNN classification algorithm multiple times to measure accuracy of Model with multiple values of k.\n",
    "Record accuracy for each value.\n",
    "\n",
    "In this case I preferred k = 3 to 12.\n"
   ]
  },
  {
   "cell_type": "code",
   "execution_count": 6,
   "metadata": {},
   "outputs": [
    {
     "data": {
      "text/html": [
       "<table>\n",
       "<caption>A data.frame: 10 × 2</caption>\n",
       "<thead>\n",
       "\t<tr><th scope=col>k</th><th scope=col>accuracy</th></tr>\n",
       "\t<tr><th scope=col>&lt;dbl&gt;</th><th scope=col>&lt;dbl&gt;</th></tr>\n",
       "</thead>\n",
       "<tbody>\n",
       "\t<tr><td> 3</td><td>0.8285714</td></tr>\n",
       "\t<tr><td> 4</td><td>0.7428571</td></tr>\n",
       "\t<tr><td> 5</td><td>0.8285714</td></tr>\n",
       "\t<tr><td> 6</td><td>0.8571429</td></tr>\n",
       "\t<tr><td> 7</td><td>0.8285714</td></tr>\n",
       "\t<tr><td> 8</td><td>0.8571429</td></tr>\n",
       "\t<tr><td> 9</td><td>0.8571429</td></tr>\n",
       "\t<tr><td>10</td><td>0.8000000</td></tr>\n",
       "\t<tr><td>11</td><td>0.9142857</td></tr>\n",
       "\t<tr><td>12</td><td>0.8285714</td></tr>\n",
       "</tbody>\n",
       "</table>\n"
      ],
      "text/latex": [
       "A data.frame: 10 × 2\n",
       "\\begin{tabular}{r|ll}\n",
       " k & accuracy\\\\\n",
       " <dbl> & <dbl>\\\\\n",
       "\\hline\n",
       "\t  3 & 0.8285714\\\\\n",
       "\t  4 & 0.7428571\\\\\n",
       "\t  5 & 0.8285714\\\\\n",
       "\t  6 & 0.8571429\\\\\n",
       "\t  7 & 0.8285714\\\\\n",
       "\t  8 & 0.8571429\\\\\n",
       "\t  9 & 0.8571429\\\\\n",
       "\t 10 & 0.8000000\\\\\n",
       "\t 11 & 0.9142857\\\\\n",
       "\t 12 & 0.8285714\\\\\n",
       "\\end{tabular}\n"
      ],
      "text/markdown": [
       "\n",
       "A data.frame: 10 × 2\n",
       "\n",
       "| k &lt;dbl&gt; | accuracy &lt;dbl&gt; |\n",
       "|---|---|\n",
       "|  3 | 0.8285714 |\n",
       "|  4 | 0.7428571 |\n",
       "|  5 | 0.8285714 |\n",
       "|  6 | 0.8571429 |\n",
       "|  7 | 0.8285714 |\n",
       "|  8 | 0.8571429 |\n",
       "|  9 | 0.8571429 |\n",
       "| 10 | 0.8000000 |\n",
       "| 11 | 0.9142857 |\n",
       "| 12 | 0.8285714 |\n",
       "\n"
      ],
      "text/plain": [
       "   k  accuracy \n",
       "1   3 0.8285714\n",
       "2   4 0.7428571\n",
       "3   5 0.8285714\n",
       "4   6 0.8571429\n",
       "5   7 0.8285714\n",
       "6   8 0.8571429\n",
       "7   9 0.8571429\n",
       "8  10 0.8000000\n",
       "9  11 0.9142857\n",
       "10 12 0.8285714"
      ]
     },
     "metadata": {},
     "output_type": "display_data"
    }
   ],
   "source": [
    "# Can be optimized\n",
    "\n",
    "k <- c()\n",
    "accu <- c()\n",
    "result<- data.frame()\n",
    "for (i in 3:12)\n",
    "{\n",
    "    prc_pred <- knn(train = prc_train [,-1], test = prc_test [,-1], cl = train_label, k = i)\n",
    "    confusion_matrix <- table(test_label, prc_pred)\n",
    "\n",
    "    result<-rbind(result,c(i,sum(diag(confusion_matrix)) / sum(confusion_matrix)))\n",
    "\n",
    "}\n",
    "names(result) <- c(\"k\", \"accuracy\")\n",
    "\n",
    "result"
   ]
  },
  {
   "cell_type": "markdown",
   "metadata": {},
   "source": [
    "Highest accuracy achieved for ......"
   ]
  },
  {
   "cell_type": "code",
   "execution_count": null,
   "metadata": {},
   "outputs": [],
   "source": []
  },
  {
   "cell_type": "code",
   "execution_count": null,
   "metadata": {},
   "outputs": [],
   "source": []
  },
  {
   "cell_type": "code",
   "execution_count": null,
   "metadata": {},
   "outputs": [],
   "source": []
  },
  {
   "cell_type": "code",
   "execution_count": null,
   "metadata": {},
   "outputs": [],
   "source": []
  }
 ],
 "metadata": {
  "kernelspec": {
   "display_name": "R",
   "language": "R",
   "name": "ir"
  },
  "language_info": {
   "codemirror_mode": "r",
   "file_extension": ".r",
   "mimetype": "text/x-r-source",
   "name": "R",
   "pygments_lexer": "r",
   "version": "3.5.2"
  }
 },
 "nbformat": 4,
 "nbformat_minor": 2
}
