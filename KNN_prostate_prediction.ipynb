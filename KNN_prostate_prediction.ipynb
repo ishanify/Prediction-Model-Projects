{
 "cells": [
  {
   "cell_type": "markdown",
   "metadata": {},
   "source": [
    "# Using KNN classification algorithm, predicting Malignant OR Benign prostate cancer."
   ]
  },
  {
   "cell_type": "markdown",
   "metadata": {},
   "source": [
    "The data set contains patients who have been diagnosed with either Malignant (M) or Benign (B) cancer.\n",
    "\n",
    "Load the data and check its characteristics.."
   ]
  },
  {
   "cell_type": "code",
   "execution_count": 1,
   "metadata": {},
   "outputs": [
    {
     "data": {
      "text/plain": [
       "       id         diagnosis_result       radius         texture     \n",
       " Min.   :  1.00   Length:100         Min.   : 9.00   Min.   :11.00  \n",
       " 1st Qu.: 25.75   Class :character   1st Qu.:12.00   1st Qu.:14.00  \n",
       " Median : 50.50   Mode  :character   Median :17.00   Median :17.50  \n",
       " Mean   : 50.50                      Mean   :16.85   Mean   :18.23  \n",
       " 3rd Qu.: 75.25                      3rd Qu.:21.00   3rd Qu.:22.25  \n",
       " Max.   :100.00                      Max.   :25.00   Max.   :27.00  \n",
       "   perimeter           area          smoothness      compactness    \n",
       " Min.   : 52.00   Min.   : 202.0   Min.   :0.0700   Min.   :0.0380  \n",
       " 1st Qu.: 82.50   1st Qu.: 476.8   1st Qu.:0.0935   1st Qu.:0.0805  \n",
       " Median : 94.00   Median : 644.0   Median :0.1020   Median :0.1185  \n",
       " Mean   : 96.78   Mean   : 702.9   Mean   :0.1027   Mean   :0.1267  \n",
       " 3rd Qu.:114.25   3rd Qu.: 917.0   3rd Qu.:0.1120   3rd Qu.:0.1570  \n",
       " Max.   :172.00   Max.   :1878.0   Max.   :0.1430   Max.   :0.3450  \n",
       "    symmetry      fractal_dimension\n",
       " Min.   :0.1350   Min.   :0.05300  \n",
       " 1st Qu.:0.1720   1st Qu.:0.05900  \n",
       " Median :0.1900   Median :0.06300  \n",
       " Mean   :0.1932   Mean   :0.06469  \n",
       " 3rd Qu.:0.2090   3rd Qu.:0.06900  \n",
       " Max.   :0.3040   Max.   :0.09700  "
      ]
     },
     "metadata": {},
     "output_type": "display_data"
    }
   ],
   "source": [
    "prc <- read.csv(\"Prostate_Cancer.csv\",stringsAsFactors = FALSE)\n",
    "summary(prc)"
   ]
  },
  {
   "cell_type": "markdown",
   "metadata": {},
   "source": [
    "Remove 'id' from data set because its not needed to build this model."
   ]
  },
  {
   "cell_type": "code",
   "execution_count": 2,
   "metadata": {},
   "outputs": [],
   "source": [
    "prc <- prc[-1]"
   ]
  },
  {
   "cell_type": "code",
   "execution_count": 3,
   "metadata": {},
   "outputs": [
    {
     "data": {
      "text/html": [
       "0"
      ],
      "text/latex": [
       "0"
      ],
      "text/markdown": [
       "0"
      ],
      "text/plain": [
       "[1] 0"
      ]
     },
     "metadata": {},
     "output_type": "display_data"
    }
   ],
   "source": [
    "sum(is.na(prc))"
   ]
  },
  {
   "cell_type": "markdown",
   "metadata": {},
   "source": [
    "Checked for missing values\n",
    "Good news! No NAs.\n",
    "\n",
    "Since our dependent variable \"diagnosis_result\" is M or B, I want to make it into a descriptive form, adding another column \"diagnosis\"."
   ]
  },
  {
   "cell_type": "code",
   "execution_count": 4,
   "metadata": {},
   "outputs": [],
   "source": [
    "prc$diagnosis <- factor(prc$diagnosis_result, levels = c(\"B\", \"M\"), labels = c(\"Benign\", \"Malignant\"))"
   ]
  },
  {
   "cell_type": "code",
   "execution_count": null,
   "metadata": {},
   "outputs": [],
   "source": []
  }
 ],
 "metadata": {
  "kernelspec": {
   "display_name": "R",
   "language": "R",
   "name": "ir"
  },
  "language_info": {
   "codemirror_mode": "r",
   "file_extension": ".r",
   "mimetype": "text/x-r-source",
   "name": "R",
   "pygments_lexer": "r",
   "version": "3.5.2"
  }
 },
 "nbformat": 4,
 "nbformat_minor": 2
}
