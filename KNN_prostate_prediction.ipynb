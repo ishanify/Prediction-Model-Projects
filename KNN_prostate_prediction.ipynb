{
 "cells": [
  {
   "cell_type": "markdown",
   "metadata": {},
   "source": [
    "# Using KNN classification algorithm, predicting Malignant OR Benign prostate cancer."
   ]
  },
  {
   "cell_type": "markdown",
   "metadata": {},
   "source": [
    "The data set contains patients who have been diagnosed with either Malignant (M) or Benign (B) cancer.\n",
    "\n",
    "Load the data and check its characteristics.."
   ]
  },
  {
   "cell_type": "code",
   "execution_count": 22,
   "metadata": {},
   "outputs": [
    {
     "data": {
      "text/plain": [
       "       id         diagnosis_result       radius         texture     \n",
       " Min.   :  1.00   Length:100         Min.   : 9.00   Min.   :11.00  \n",
       " 1st Qu.: 25.75   Class :character   1st Qu.:12.00   1st Qu.:14.00  \n",
       " Median : 50.50   Mode  :character   Median :17.00   Median :17.50  \n",
       " Mean   : 50.50                      Mean   :16.85   Mean   :18.23  \n",
       " 3rd Qu.: 75.25                      3rd Qu.:21.00   3rd Qu.:22.25  \n",
       " Max.   :100.00                      Max.   :25.00   Max.   :27.00  \n",
       "   perimeter           area          smoothness      compactness    \n",
       " Min.   : 52.00   Min.   : 202.0   Min.   :0.0700   Min.   :0.0380  \n",
       " 1st Qu.: 82.50   1st Qu.: 476.8   1st Qu.:0.0935   1st Qu.:0.0805  \n",
       " Median : 94.00   Median : 644.0   Median :0.1020   Median :0.1185  \n",
       " Mean   : 96.78   Mean   : 702.9   Mean   :0.1027   Mean   :0.1267  \n",
       " 3rd Qu.:114.25   3rd Qu.: 917.0   3rd Qu.:0.1120   3rd Qu.:0.1570  \n",
       " Max.   :172.00   Max.   :1878.0   Max.   :0.1430   Max.   :0.3450  \n",
       "    symmetry      fractal_dimension\n",
       " Min.   :0.1350   Min.   :0.05300  \n",
       " 1st Qu.:0.1720   1st Qu.:0.05900  \n",
       " Median :0.1900   Median :0.06300  \n",
       " Mean   :0.1932   Mean   :0.06469  \n",
       " 3rd Qu.:0.2090   3rd Qu.:0.06900  \n",
       " Max.   :0.3040   Max.   :0.09700  "
      ]
     },
     "metadata": {},
     "output_type": "display_data"
    }
   ],
   "source": [
    "prc <- read.csv(\"Prostate_Cancer.csv\",stringsAsFactors = FALSE)\n",
    "summary(prc)"
   ]
  },
  {
   "cell_type": "markdown",
   "metadata": {},
   "source": [
    "Remove 'id' from data set because its not needed to build this model."
   ]
  },
  {
   "cell_type": "code",
   "execution_count": 13,
   "metadata": {},
   "outputs": [],
   "source": [
    "prc <- prc[-1]"
   ]
  },
  {
   "cell_type": "code",
   "execution_count": 14,
   "metadata": {},
   "outputs": [
    {
     "data": {
      "text/html": [
       "0"
      ],
      "text/latex": [
       "0"
      ],
      "text/markdown": [
       "0"
      ],
      "text/plain": [
       "[1] 0"
      ]
     },
     "metadata": {},
     "output_type": "display_data"
    }
   ],
   "source": [
    "sum(is.na(prc))"
   ]
  },
  {
   "cell_type": "markdown",
   "metadata": {},
   "source": [
    "Checked for missing values\n",
    "Good news! No NAs.\n",
    "\n",
    "Since our dependent variable \"diagnosis_result\" is M or B, I want to make it into a descriptive form, adding another column \"diagnosis\"."
   ]
  },
  {
   "cell_type": "code",
   "execution_count": 21,
   "metadata": {},
   "outputs": [
    {
     "name": "stdout",
     "output_type": "stream",
     "text": [
      "'data.frame':\t100 obs. of  11 variables:\n",
      " $ id               : int  1 2 3 4 5 6 7 8 9 10 ...\n",
      " $ diagnosis_result : chr  \"M\" \"B\" \"M\" \"M\" ...\n",
      " $ radius           : int  23 9 21 14 9 25 16 15 19 25 ...\n",
      " $ texture          : int  12 13 27 16 19 25 26 18 24 11 ...\n",
      " $ perimeter        : int  151 133 130 78 135 83 120 90 88 84 ...\n",
      " $ area             : int  954 1326 1203 386 1297 477 1040 578 520 476 ...\n",
      " $ smoothness       : num  0.143 0.143 0.125 0.07 0.141 0.128 0.095 0.119 0.127 0.119 ...\n",
      " $ compactness      : num  0.278 0.079 0.16 0.284 0.133 0.17 0.109 0.165 0.193 0.24 ...\n",
      " $ symmetry         : num  0.242 0.181 0.207 0.26 0.181 0.209 0.179 0.22 0.235 0.203 ...\n",
      " $ fractal_dimension: num  0.079 0.057 0.06 0.097 0.059 0.076 0.057 0.075 0.074 0.082 ...\n",
      " $ diagnosis        : Factor w/ 2 levels \"Benign\",\"Malignant\": 2 1 2 2 2 1 2 2 2 2 ...\n"
     ]
    }
   ],
   "source": [
    "prc$diagnosis <- factor(prc$diagnosis_result, levels = c(\"B\", \"M\"), labels = c(\"Benign\", \"Malignant\"))"
   ]
  },
  {
   "cell_type": "code",
   "execution_count": null,
   "metadata": {},
   "outputs": [],
   "source": []
  }
 ],
 "metadata": {
  "kernelspec": {
   "display_name": "R",
   "language": "R",
   "name": "ir"
  },
  "language_info": {
   "codemirror_mode": "r",
   "file_extension": ".r",
   "mimetype": "text/x-r-source",
   "name": "R",
   "pygments_lexer": "r",
   "version": "3.5.2"
  }
 },
 "nbformat": 4,
 "nbformat_minor": 2
}
